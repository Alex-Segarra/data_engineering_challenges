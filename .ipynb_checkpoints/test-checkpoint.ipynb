{
 "cells": [
  {
   "cell_type": "code",
   "execution_count": 7,
   "id": "fb991763-d299-411e-9bd1-e40f1d577e90",
   "metadata": {},
   "outputs": [],
   "source": [
    "import pandas as pd\n",
    "import psycopg2\n",
    "import json"
   ]
  },
  {
   "cell_type": "code",
   "execution_count": 9,
   "id": "96742ec8-159f-4331-bdce-4e6bcb41a881",
   "metadata": {},
   "outputs": [],
   "source": [
    "file=json.load(open('creds.json'))\n",
    "\n",
    "conn = psycopg2.connect(database='data_mart',\\\n",
    "                        user=file['username'],\\\n",
    "                        password=file['password'],\\\n",
    "                        host='127.0.0.1',\\\n",
    "                        port= '5432')"
   ]
  },
  {
   "cell_type": "code",
   "execution_count": 4,
   "id": "c5490fbc-cb01-472f-9934-3577d3e378bb",
   "metadata": {},
   "outputs": [
    {
     "data": {
      "text/plain": [
       "\u001b[0;31mSignature:\u001b[0m\n",
       "\u001b[0mpsycopg2\u001b[0m\u001b[0;34m.\u001b[0m\u001b[0mconnect\u001b[0m\u001b[0;34m(\u001b[0m\u001b[0;34m\u001b[0m\n",
       "\u001b[0;34m\u001b[0m    \u001b[0mdsn\u001b[0m\u001b[0;34m=\u001b[0m\u001b[0;32mNone\u001b[0m\u001b[0;34m,\u001b[0m\u001b[0;34m\u001b[0m\n",
       "\u001b[0;34m\u001b[0m    \u001b[0mconnection_factory\u001b[0m\u001b[0;34m=\u001b[0m\u001b[0;32mNone\u001b[0m\u001b[0;34m,\u001b[0m\u001b[0;34m\u001b[0m\n",
       "\u001b[0;34m\u001b[0m    \u001b[0mcursor_factory\u001b[0m\u001b[0;34m=\u001b[0m\u001b[0;32mNone\u001b[0m\u001b[0;34m,\u001b[0m\u001b[0;34m\u001b[0m\n",
       "\u001b[0;34m\u001b[0m    \u001b[0;34m**\u001b[0m\u001b[0mkwargs\u001b[0m\u001b[0;34m,\u001b[0m\u001b[0;34m\u001b[0m\n",
       "\u001b[0;34m\u001b[0m\u001b[0;34m)\u001b[0m\u001b[0;34m\u001b[0m\u001b[0;34m\u001b[0m\u001b[0m\n",
       "\u001b[0;31mDocstring:\u001b[0m\n",
       "Create a new database connection.\n",
       "\n",
       "The connection parameters can be specified as a string:\n",
       "\n",
       "    conn = psycopg2.connect(\"dbname=test user=postgres password=secret\")\n",
       "\n",
       "or using a set of keyword arguments:\n",
       "\n",
       "    conn = psycopg2.connect(database=\"test\", user=\"postgres\", password=\"secret\")\n",
       "\n",
       "Or as a mix of both. The basic connection parameters are:\n",
       "\n",
       "- *dbname*: the database name\n",
       "- *database*: the database name (only as keyword argument)\n",
       "- *user*: user name used to authenticate\n",
       "- *password*: password used to authenticate\n",
       "- *host*: database host address (defaults to UNIX socket if not provided)\n",
       "- *port*: connection port number (defaults to 5432 if not provided)\n",
       "\n",
       "Using the *connection_factory* parameter a different class or connections\n",
       "factory can be specified. It should be a callable object taking a dsn\n",
       "argument.\n",
       "\n",
       "Using the *cursor_factory* parameter, a new default cursor factory will be\n",
       "used by cursor().\n",
       "\n",
       "Using *async*=True an asynchronous connection will be created. *async_* is\n",
       "a valid alias (for Python versions where ``async`` is a keyword).\n",
       "\n",
       "Any other keyword parameter will be passed to the underlying client\n",
       "library: the list of supported parameters depends on the library version.\n",
       "\u001b[0;31mFile:\u001b[0m      /opt/conda/lib/python3.10/site-packages/psycopg2/__init__.py\n",
       "\u001b[0;31mType:\u001b[0m      function"
      ]
     },
     "metadata": {},
     "output_type": "display_data"
    }
   ],
   "source": [
    "conn = psycopg2.connect?\n",
    "    \n"
   ]
  }
 ],
 "metadata": {
  "environment": {
   "kernel": "python3",
   "name": "common-cpu.m109",
   "type": "gcloud",
   "uri": "gcr.io/deeplearning-platform-release/base-cpu:m109"
  },
  "kernelspec": {
   "display_name": "Python 3",
   "language": "python",
   "name": "python3"
  },
  "language_info": {
   "codemirror_mode": {
    "name": "ipython",
    "version": 3
   },
   "file_extension": ".py",
   "mimetype": "text/x-python",
   "name": "python",
   "nbconvert_exporter": "python",
   "pygments_lexer": "ipython3",
   "version": "3.10.11"
  }
 },
 "nbformat": 4,
 "nbformat_minor": 5
}
